{
 "cells": [
  {
   "cell_type": "code",
   "execution_count": 1,
   "metadata": {
    "collapsed": true
   },
   "outputs": [],
   "source": [
    "#the goal here is to combine player FIFA data with \n",
    "\n",
    "Player_attr = read.csv('data/PlayerAttributeData.csv', stringsAsFactors = F)\n",
    "Player_pers = read.csv('data/PlayerPersonalData.csv')\n",
    "options(warn=-1)"
   ]
  },
  {
   "cell_type": "code",
   "execution_count": 2,
   "metadata": {
    "scrolled": true
   },
   "outputs": [
    {
     "name": "stdout",
     "output_type": "stream",
     "text": [
      "'data.frame':\t17981 obs. of  36 variables:\n",
      " $ X                 : int  0 1 2 3 4 5 6 7 8 9 ...\n",
      " $ Acceleration      : Factor w/ 161 levels \"11\",\"12\",\"13\",..: 151 156 159 150 57 130 55 158 63 126 ...\n",
      " $ Aggression        : Factor w/ 151 levels \"11\",\"12\",\"13\",..: 79 44 59 124 20 129 31 57 72 48 ...\n",
      " $ Agility           : Factor w/ 146 levels \"14\",\"15\",\"16\",..: 139 140 146 136 49 118 64 143 101 110 ...\n",
      " $ Balance           : Factor w/ 135 levels \"11\",\"15\",\"16\",..: 63 134 115 57 23 109 31 130 82 82 ...\n",
      " $ Ball.control      : Factor w/ 184 levels \"10\",\"11\",\"12\",..: 182 184 184 180 49 177 40 181 177 172 ...\n",
      " $ Composure         : Factor w/ 161 levels \"11\",\"12\",\"13\",..: 160 161 159 150 123 154 97 154 152 153 ...\n",
      " $ Crossing          : Factor w/ 176 levels \"10\",\"11\",\"12\",..: 168 155 153 155 6 100 8 162 168 130 ...\n",
      " $ Curve             : Factor w/ 153 levels \"10\",\"11\",\"12\",..: 141 150 141 147 5 133 12 143 146 126 ...\n",
      " $ Dribbling         : Factor w/ 194 levels \"10\",\"11\",\"11+6\",..: 190 194 193 183 23 182 10 192 172 180 ...\n",
      " $ Finishing         : Factor w/ 187 levels \"10\",\"11\",\"12\",..: 186 187 182 186 4 185 4 176 161 185 ...\n",
      " $ Free.kick.accuracy: Factor w/ 136 levels \"10\",\"11\",\"12\",..: 116 134 127 127 2 127 10 120 127 76 ...\n",
      " $ GK.diving         : Factor w/ 100 levels \"1\",\"10\",\"11\",..: 66 45 98 17 100 7 99 3 2 30 ...\n",
      " $ GK.handling       : Factor w/ 97 levels \"1\",\"10\",\"11\",..: 3 3 95 14 96 47 91 4 3 4 ...\n",
      " $ GK.kicking        : Factor w/ 103 levels \"1\",\"10\",\"11\",..: 7 7 7 22 103 4 100 58 5 81 ...\n",
      " $ GK.positioning    : Factor w/ 99 levels \"1\",\"10\",\"11\",..: 6 6 7 21 99 88 95 88 75 35 ...\n",
      " $ GK.reflexes       : Factor w/ 102 levels \"1\",\"10\",\"11\",..: 3 85 3 22 100 2 102 85 2 2 ...\n",
      " $ Heading.accuracy  : Factor w/ 158 levels \"10\",\"11\",\"12\",..: 151 118 87 136 16 147 12 68 61 149 ...\n",
      " $ ID                : int  20801 158023 190871 176580 167495 188545 193080 183277 182521 167664 ...\n",
      " $ Interceptions     : Factor w/ 174 levels \"10\",\"10-11\",\"11\",..: 28 18 37 47 29 43 29 47 166 15 ...\n",
      " $ Jumping           : Factor w/ 140 levels \"13\",\"15\",\"16\",..: 140 74 50 80 115 127 69 42 11 118 ...\n",
      " $ Long.passing      : Factor w/ 188 levels \"10\",\"11\",\"12\",..: 168 182 162 119 98 122 67 174 188 98 ...\n",
      " $ Long.shots        : Factor w/ 156 levels \"10\",\"11\",\"12\",..: 156 152 136 150 7 147 3 146 154 146 ...\n",
      " $ Marking           : Factor w/ 183 levels \"10\",\"11\",\"12\",..: 16 4 15 30 1 23 4 23 108 3 ...\n",
      " $ Penalties         : Factor w/ 117 levels \"10\",\"11\",\"12\",..: 109 96 104 109 41 104 32 110 95 88 ...\n",
      " $ Positioning       : Factor w/ 171 levels \"10\",\"10-3\",\"11\",..: 171 170 167 169 4 168 4 161 151 169 ...\n",
      " $ Reactions         : Factor w/ 158 levels \"28\",\"30\",\"31\",..: 158 157 151 156 148 154 151 148 149 151 ...\n",
      " $ Short.passing     : Factor w/ 209 levels \"10\",\"11\",\"12\",..: 199 205 195 199 71 199 57 203 207 179 ...\n",
      " $ Shot.power        : Factor w/ 153 levels \"10\",\"11\",\"12\",..: 153 143 134 146 17 147 24 131 146 147 ...\n",
      " $ Sliding.tackle    : Factor w/ 169 levels \"10\",\"11\",\"12\",..: 18 22 33 40 2 12 4 17 123 10 ...\n",
      " $ Sprint.speed      : Factor w/ 194 levels \"11\",\"12\",\"13\",..: 188 178 185 143 69 165 61 178 48 155 ...\n",
      " $ Stamina           : Factor w/ 180 levels \"12\",\"13\",\"14\",..: 177 124 144 173 38 149 31 149 142 117 ...\n",
      " $ Standing.tackle   : Factor w/ 187 levels \"10\",\"11\",\"12\",..: 28 24 18 53 1 49 15 22 174 16 ...\n",
      " $ Strength          : Factor w/ 168 levels \"12\",\"20\",\"21\",..: 137 65 48 137 144 148 72 73 114 151 ...\n",
      " $ Vision            : Factor w/ 173 levels \"10\",\"11\",\"12\",..: 165 170 160 164 127 154 119 166 168 127 ...\n",
      " $ Volleys           : Factor w/ 125 levels \"10\",\"11\",\"12\",..: 121 118 116 121 2 120 4 111 115 121 ...\n"
     ]
    }
   ],
   "source": [
    "str(Player_attr)"
   ]
  },
  {
   "cell_type": "code",
   "execution_count": 3,
   "metadata": {
    "collapsed": true
   },
   "outputs": [],
   "source": [
    "i <- sapply(Player_attr, is.factor)\n",
    "Player_attr[i] <- lapply(Player_attr[i], as.character)"
   ]
  },
  {
   "cell_type": "code",
   "execution_count": 4,
   "metadata": {
    "collapsed": true
   },
   "outputs": [],
   "source": [
    "Player_attr[i] <- lapply(Player_attr[i], function(Player_attr) substr(Player_attr,0,3))"
   ]
  },
  {
   "cell_type": "code",
   "execution_count": 5,
   "metadata": {
    "collapsed": true
   },
   "outputs": [],
   "source": [
    "Player_attr[i] <- lapply(Player_attr[i], as.numeric)"
   ]
  },
  {
   "cell_type": "code",
   "execution_count": 6,
   "metadata": {},
   "outputs": [
    {
     "data": {
      "text/html": [
       "2821"
      ],
      "text/latex": [
       "2821"
      ],
      "text/markdown": [
       "2821"
      ],
      "text/plain": [
       "[1] 2821"
      ]
     },
     "metadata": {},
     "output_type": "display_data"
    }
   ],
   "source": [
    "sum(is.na(Player_attr))"
   ]
  },
  {
   "cell_type": "code",
   "execution_count": 7,
   "metadata": {},
   "outputs": [
    {
     "data": {
      "text/html": [
       "644495"
      ],
      "text/latex": [
       "644495"
      ],
      "text/markdown": [
       "644495"
      ],
      "text/plain": [
       "[1] 644495"
      ]
     },
     "metadata": {},
     "output_type": "display_data"
    }
   ],
   "source": [
    "sum(!is.na(Player_attr))"
   ]
  },
  {
   "cell_type": "code",
   "execution_count": null,
   "metadata": {
    "collapsed": true
   },
   "outputs": [],
   "source": [
    "Player_stats_total = merge(Player_attr, Player_pers, by = 'X')"
   ]
  },
  {
   "cell_type": "code",
   "execution_count": 16,
   "metadata": {},
   "outputs": [
    {
     "data": {
      "text/html": [
       "<ol class=list-inline>\n",
       "\t<li>'X'</li>\n",
       "\t<li>'Acceleration'</li>\n",
       "\t<li>'Aggression'</li>\n",
       "\t<li>'Agility'</li>\n",
       "\t<li>'Balance'</li>\n",
       "\t<li>'Ball.control'</li>\n",
       "\t<li>'Composure'</li>\n",
       "\t<li>'Crossing'</li>\n",
       "\t<li>'Curve'</li>\n",
       "\t<li>'Dribbling'</li>\n",
       "\t<li>'Finishing'</li>\n",
       "\t<li>'Free.kick.accuracy'</li>\n",
       "\t<li>'GK.diving'</li>\n",
       "\t<li>'GK.handling'</li>\n",
       "\t<li>'GK.kicking'</li>\n",
       "\t<li>'GK.positioning'</li>\n",
       "\t<li>'GK.reflexes'</li>\n",
       "\t<li>'Heading.accuracy'</li>\n",
       "\t<li>'ID.x'</li>\n",
       "\t<li>'Interceptions'</li>\n",
       "\t<li>'Jumping'</li>\n",
       "\t<li>'Long.passing'</li>\n",
       "\t<li>'Long.shots'</li>\n",
       "\t<li>'Marking'</li>\n",
       "\t<li>'Penalties'</li>\n",
       "\t<li>'Positioning'</li>\n",
       "\t<li>'Reactions'</li>\n",
       "\t<li>'Short.passing'</li>\n",
       "\t<li>'Shot.power'</li>\n",
       "\t<li>'Sliding.tackle'</li>\n",
       "\t<li>'Sprint.speed'</li>\n",
       "\t<li>'Stamina'</li>\n",
       "\t<li>'Standing.tackle'</li>\n",
       "\t<li>'Strength'</li>\n",
       "\t<li>'Vision'</li>\n",
       "\t<li>'Volleys'</li>\n",
       "\t<li>'Unnamed..0'</li>\n",
       "\t<li>'ID.y'</li>\n",
       "\t<li>'Name'</li>\n",
       "\t<li>'Age'</li>\n",
       "\t<li>'Photo'</li>\n",
       "\t<li>'Nationality'</li>\n",
       "\t<li>'Flag'</li>\n",
       "\t<li>'Overall'</li>\n",
       "\t<li>'Potential'</li>\n",
       "\t<li>'Club'</li>\n",
       "\t<li>'Club.Logo'</li>\n",
       "\t<li>'Value'</li>\n",
       "\t<li>'Wage'</li>\n",
       "\t<li>'Special'</li>\n",
       "</ol>\n"
      ],
      "text/latex": [
       "\\begin{enumerate*}\n",
       "\\item 'X'\n",
       "\\item 'Acceleration'\n",
       "\\item 'Aggression'\n",
       "\\item 'Agility'\n",
       "\\item 'Balance'\n",
       "\\item 'Ball.control'\n",
       "\\item 'Composure'\n",
       "\\item 'Crossing'\n",
       "\\item 'Curve'\n",
       "\\item 'Dribbling'\n",
       "\\item 'Finishing'\n",
       "\\item 'Free.kick.accuracy'\n",
       "\\item 'GK.diving'\n",
       "\\item 'GK.handling'\n",
       "\\item 'GK.kicking'\n",
       "\\item 'GK.positioning'\n",
       "\\item 'GK.reflexes'\n",
       "\\item 'Heading.accuracy'\n",
       "\\item 'ID.x'\n",
       "\\item 'Interceptions'\n",
       "\\item 'Jumping'\n",
       "\\item 'Long.passing'\n",
       "\\item 'Long.shots'\n",
       "\\item 'Marking'\n",
       "\\item 'Penalties'\n",
       "\\item 'Positioning'\n",
       "\\item 'Reactions'\n",
       "\\item 'Short.passing'\n",
       "\\item 'Shot.power'\n",
       "\\item 'Sliding.tackle'\n",
       "\\item 'Sprint.speed'\n",
       "\\item 'Stamina'\n",
       "\\item 'Standing.tackle'\n",
       "\\item 'Strength'\n",
       "\\item 'Vision'\n",
       "\\item 'Volleys'\n",
       "\\item 'Unnamed..0'\n",
       "\\item 'ID.y'\n",
       "\\item 'Name'\n",
       "\\item 'Age'\n",
       "\\item 'Photo'\n",
       "\\item 'Nationality'\n",
       "\\item 'Flag'\n",
       "\\item 'Overall'\n",
       "\\item 'Potential'\n",
       "\\item 'Club'\n",
       "\\item 'Club.Logo'\n",
       "\\item 'Value'\n",
       "\\item 'Wage'\n",
       "\\item 'Special'\n",
       "\\end{enumerate*}\n"
      ],
      "text/markdown": [
       "1. 'X'\n",
       "2. 'Acceleration'\n",
       "3. 'Aggression'\n",
       "4. 'Agility'\n",
       "5. 'Balance'\n",
       "6. 'Ball.control'\n",
       "7. 'Composure'\n",
       "8. 'Crossing'\n",
       "9. 'Curve'\n",
       "10. 'Dribbling'\n",
       "11. 'Finishing'\n",
       "12. 'Free.kick.accuracy'\n",
       "13. 'GK.diving'\n",
       "14. 'GK.handling'\n",
       "15. 'GK.kicking'\n",
       "16. 'GK.positioning'\n",
       "17. 'GK.reflexes'\n",
       "18. 'Heading.accuracy'\n",
       "19. 'ID.x'\n",
       "20. 'Interceptions'\n",
       "21. 'Jumping'\n",
       "22. 'Long.passing'\n",
       "23. 'Long.shots'\n",
       "24. 'Marking'\n",
       "25. 'Penalties'\n",
       "26. 'Positioning'\n",
       "27. 'Reactions'\n",
       "28. 'Short.passing'\n",
       "29. 'Shot.power'\n",
       "30. 'Sliding.tackle'\n",
       "31. 'Sprint.speed'\n",
       "32. 'Stamina'\n",
       "33. 'Standing.tackle'\n",
       "34. 'Strength'\n",
       "35. 'Vision'\n",
       "36. 'Volleys'\n",
       "37. 'Unnamed..0'\n",
       "38. 'ID.y'\n",
       "39. 'Name'\n",
       "40. 'Age'\n",
       "41. 'Photo'\n",
       "42. 'Nationality'\n",
       "43. 'Flag'\n",
       "44. 'Overall'\n",
       "45. 'Potential'\n",
       "46. 'Club'\n",
       "47. 'Club.Logo'\n",
       "48. 'Value'\n",
       "49. 'Wage'\n",
       "50. 'Special'\n",
       "\n",
       "\n"
      ],
      "text/plain": [
       " [1] \"X\"                  \"Acceleration\"       \"Aggression\"        \n",
       " [4] \"Agility\"            \"Balance\"            \"Ball.control\"      \n",
       " [7] \"Composure\"          \"Crossing\"           \"Curve\"             \n",
       "[10] \"Dribbling\"          \"Finishing\"          \"Free.kick.accuracy\"\n",
       "[13] \"GK.diving\"          \"GK.handling\"        \"GK.kicking\"        \n",
       "[16] \"GK.positioning\"     \"GK.reflexes\"        \"Heading.accuracy\"  \n",
       "[19] \"ID.x\"               \"Interceptions\"      \"Jumping\"           \n",
       "[22] \"Long.passing\"       \"Long.shots\"         \"Marking\"           \n",
       "[25] \"Penalties\"          \"Positioning\"        \"Reactions\"         \n",
       "[28] \"Short.passing\"      \"Shot.power\"         \"Sliding.tackle\"    \n",
       "[31] \"Sprint.speed\"       \"Stamina\"            \"Standing.tackle\"   \n",
       "[34] \"Strength\"           \"Vision\"             \"Volleys\"           \n",
       "[37] \"Unnamed..0\"         \"ID.y\"               \"Name\"              \n",
       "[40] \"Age\"                \"Photo\"              \"Nationality\"       \n",
       "[43] \"Flag\"               \"Overall\"            \"Potential\"         \n",
       "[46] \"Club\"               \"Club.Logo\"          \"Value\"             \n",
       "[49] \"Wage\"               \"Special\"           "
      ]
     },
     "metadata": {},
     "output_type": "display_data"
    }
   ],
   "source": [
    "colnames(Player_stats_total)"
   ]
  },
  {
   "cell_type": "code",
   "execution_count": 9,
   "metadata": {},
   "outputs": [
    {
     "data": {
      "text/html": [
       "<ol class=list-inline>\n",
       "\t<li>'Acceleration'</li>\n",
       "\t<li>'Aggression'</li>\n",
       "\t<li>'Agility'</li>\n",
       "\t<li>'Balance'</li>\n",
       "\t<li>'Ball.control'</li>\n",
       "\t<li>'Composure'</li>\n",
       "\t<li>'Crossing'</li>\n",
       "\t<li>'Curve'</li>\n",
       "\t<li>'Dribbling'</li>\n",
       "\t<li>'Finishing'</li>\n",
       "\t<li>'Free.kick.accuracy'</li>\n",
       "\t<li>'GK.diving'</li>\n",
       "\t<li>'GK.handling'</li>\n",
       "\t<li>'GK.kicking'</li>\n",
       "\t<li>'GK.positioning'</li>\n",
       "\t<li>'GK.reflexes'</li>\n",
       "\t<li>'Heading.accuracy'</li>\n",
       "\t<li>'ID.x'</li>\n",
       "\t<li>'Interceptions'</li>\n",
       "\t<li>'Jumping'</li>\n",
       "\t<li>'Long.passing'</li>\n",
       "\t<li>'Long.shots'</li>\n",
       "\t<li>'Marking'</li>\n",
       "\t<li>'Penalties'</li>\n",
       "\t<li>'Positioning'</li>\n",
       "\t<li>'Reactions'</li>\n",
       "\t<li>'Short.passing'</li>\n",
       "\t<li>'Shot.power'</li>\n",
       "\t<li>'Sliding.tackle'</li>\n",
       "\t<li>'Sprint.speed'</li>\n",
       "\t<li>'Stamina'</li>\n",
       "\t<li>'Standing.tackle'</li>\n",
       "\t<li>'Strength'</li>\n",
       "\t<li>'Vision'</li>\n",
       "\t<li>'Volleys'</li>\n",
       "</ol>\n"
      ],
      "text/latex": [
       "\\begin{enumerate*}\n",
       "\\item 'Acceleration'\n",
       "\\item 'Aggression'\n",
       "\\item 'Agility'\n",
       "\\item 'Balance'\n",
       "\\item 'Ball.control'\n",
       "\\item 'Composure'\n",
       "\\item 'Crossing'\n",
       "\\item 'Curve'\n",
       "\\item 'Dribbling'\n",
       "\\item 'Finishing'\n",
       "\\item 'Free.kick.accuracy'\n",
       "\\item 'GK.diving'\n",
       "\\item 'GK.handling'\n",
       "\\item 'GK.kicking'\n",
       "\\item 'GK.positioning'\n",
       "\\item 'GK.reflexes'\n",
       "\\item 'Heading.accuracy'\n",
       "\\item 'ID.x'\n",
       "\\item 'Interceptions'\n",
       "\\item 'Jumping'\n",
       "\\item 'Long.passing'\n",
       "\\item 'Long.shots'\n",
       "\\item 'Marking'\n",
       "\\item 'Penalties'\n",
       "\\item 'Positioning'\n",
       "\\item 'Reactions'\n",
       "\\item 'Short.passing'\n",
       "\\item 'Shot.power'\n",
       "\\item 'Sliding.tackle'\n",
       "\\item 'Sprint.speed'\n",
       "\\item 'Stamina'\n",
       "\\item 'Standing.tackle'\n",
       "\\item 'Strength'\n",
       "\\item 'Vision'\n",
       "\\item 'Volleys'\n",
       "\\end{enumerate*}\n"
      ],
      "text/markdown": [
       "1. 'Acceleration'\n",
       "2. 'Aggression'\n",
       "3. 'Agility'\n",
       "4. 'Balance'\n",
       "5. 'Ball.control'\n",
       "6. 'Composure'\n",
       "7. 'Crossing'\n",
       "8. 'Curve'\n",
       "9. 'Dribbling'\n",
       "10. 'Finishing'\n",
       "11. 'Free.kick.accuracy'\n",
       "12. 'GK.diving'\n",
       "13. 'GK.handling'\n",
       "14. 'GK.kicking'\n",
       "15. 'GK.positioning'\n",
       "16. 'GK.reflexes'\n",
       "17. 'Heading.accuracy'\n",
       "18. 'ID.x'\n",
       "19. 'Interceptions'\n",
       "20. 'Jumping'\n",
       "21. 'Long.passing'\n",
       "22. 'Long.shots'\n",
       "23. 'Marking'\n",
       "24. 'Penalties'\n",
       "25. 'Positioning'\n",
       "26. 'Reactions'\n",
       "27. 'Short.passing'\n",
       "28. 'Shot.power'\n",
       "29. 'Sliding.tackle'\n",
       "30. 'Sprint.speed'\n",
       "31. 'Stamina'\n",
       "32. 'Standing.tackle'\n",
       "33. 'Strength'\n",
       "34. 'Vision'\n",
       "35. 'Volleys'\n",
       "\n",
       "\n"
      ],
      "text/plain": [
       " [1] \"Acceleration\"       \"Aggression\"         \"Agility\"           \n",
       " [4] \"Balance\"            \"Ball.control\"       \"Composure\"         \n",
       " [7] \"Crossing\"           \"Curve\"              \"Dribbling\"         \n",
       "[10] \"Finishing\"          \"Free.kick.accuracy\" \"GK.diving\"         \n",
       "[13] \"GK.handling\"        \"GK.kicking\"         \"GK.positioning\"    \n",
       "[16] \"GK.reflexes\"        \"Heading.accuracy\"   \"ID.x\"              \n",
       "[19] \"Interceptions\"      \"Jumping\"            \"Long.passing\"      \n",
       "[22] \"Long.shots\"         \"Marking\"            \"Penalties\"         \n",
       "[25] \"Positioning\"        \"Reactions\"          \"Short.passing\"     \n",
       "[28] \"Shot.power\"         \"Sliding.tackle\"     \"Sprint.speed\"      \n",
       "[31] \"Stamina\"            \"Standing.tackle\"    \"Strength\"          \n",
       "[34] \"Vision\"             \"Volleys\"           "
      ]
     },
     "metadata": {},
     "output_type": "display_data"
    }
   ],
   "source": [
    "colnames(Player_stats_total)[2:36]"
   ]
  },
  {
   "cell_type": "code",
   "execution_count": 15,
   "metadata": {
    "collapsed": true
   },
   "outputs": [],
   "source": [
    "#lets be specific, we only want the EPL teams here\n",
    "epl_clubs = c('Manchester United', 'Chelsea', 'Manchester City',\n",
    " 'Arsenal', 'Tottenham Hotspur', 'Leicester City',\n",
    " 'Southampton', 'Everton', 'Swansea City', 'Stoke City', 'West Ham United', 'Bournemouth', 'Crystal Palace',\n",
    " 'West Bromwich Albion', 'Burnley', 'Newcastle United', 'Liverpool', 'Huddersfield Town', 'Brighton & Hove Albion', 'Watford')"
   ]
  },
  {
   "cell_type": "code",
   "execution_count": null,
   "metadata": {
    "collapsed": true
   },
   "outputs": [],
   "source": [
    "English_stats_player <- subset(Player_stats_total, Club %in% epl_clubs)"
   ]
  },
  {
   "cell_type": "code",
   "execution_count": 18,
   "metadata": {},
   "outputs": [
    {
     "data": {
      "text/html": [
       "<ol class=list-inline>\n",
       "\t<li>Manchester United</li>\n",
       "\t<li>Chelsea</li>\n",
       "\t<li>Manchester City</li>\n",
       "\t<li>Arsenal</li>\n",
       "\t<li>Tottenham Hotspur</li>\n",
       "\t<li>Liverpool</li>\n",
       "\t<li>Leicester City</li>\n",
       "\t<li>Southampton</li>\n",
       "\t<li>Everton</li>\n",
       "\t<li>Swansea City</li>\n",
       "\t<li>Stoke City</li>\n",
       "\t<li>West Ham United</li>\n",
       "\t<li>Watford</li>\n",
       "\t<li>Bournemouth</li>\n",
       "\t<li>Crystal Palace</li>\n",
       "\t<li>West Bromwich Albion</li>\n",
       "\t<li>Burnley</li>\n",
       "\t<li>Newcastle United</li>\n",
       "\t<li>Brighton &amp; Hove Albion</li>\n",
       "\t<li>Huddersfield Town</li>\n",
       "</ol>\n"
      ],
      "text/latex": [
       "\\begin{enumerate*}\n",
       "\\item Manchester United\n",
       "\\item Chelsea\n",
       "\\item Manchester City\n",
       "\\item Arsenal\n",
       "\\item Tottenham Hotspur\n",
       "\\item Liverpool\n",
       "\\item Leicester City\n",
       "\\item Southampton\n",
       "\\item Everton\n",
       "\\item Swansea City\n",
       "\\item Stoke City\n",
       "\\item West Ham United\n",
       "\\item Watford\n",
       "\\item Bournemouth\n",
       "\\item Crystal Palace\n",
       "\\item West Bromwich Albion\n",
       "\\item Burnley\n",
       "\\item Newcastle United\n",
       "\\item Brighton \\& Hove Albion\n",
       "\\item Huddersfield Town\n",
       "\\end{enumerate*}\n"
      ],
      "text/markdown": [
       "1. Manchester United\n",
       "2. Chelsea\n",
       "3. Manchester City\n",
       "4. Arsenal\n",
       "5. Tottenham Hotspur\n",
       "6. Liverpool\n",
       "7. Leicester City\n",
       "8. Southampton\n",
       "9. Everton\n",
       "10. Swansea City\n",
       "11. Stoke City\n",
       "12. West Ham United\n",
       "13. Watford\n",
       "14. Bournemouth\n",
       "15. Crystal Palace\n",
       "16. West Bromwich Albion\n",
       "17. Burnley\n",
       "18. Newcastle United\n",
       "19. Brighton &amp; Hove Albion\n",
       "20. Huddersfield Town\n",
       "\n",
       "\n"
      ],
      "text/plain": [
       " [1] Manchester United      Chelsea                Manchester City       \n",
       " [4] Arsenal                Tottenham Hotspur      Liverpool             \n",
       " [7] Leicester City         Southampton            Everton               \n",
       "[10] Swansea City           Stoke City             West Ham United       \n",
       "[13] Watford                Bournemouth            Crystal Palace        \n",
       "[16] West Bromwich Albion   Burnley                Newcastle United      \n",
       "[19] Brighton & Hove Albion Huddersfield Town     \n",
       "648 Levels:   SSV Jahn Regensburg 1. FC Heidenheim ... Zenit St. Petersburg"
      ]
     },
     "metadata": {},
     "output_type": "display_data"
    }
   ],
   "source": [
    "unique(English_stats_player$Club)"
   ]
  },
  {
   "cell_type": "code",
   "execution_count": null,
   "metadata": {
    "collapsed": true
   },
   "outputs": [],
   "source": []
  },
  {
   "cell_type": "code",
   "execution_count": null,
   "metadata": {
    "collapsed": true
   },
   "outputs": [],
   "source": []
  },
  {
   "cell_type": "code",
   "execution_count": null,
   "metadata": {
    "collapsed": true
   },
   "outputs": [],
   "source": []
  },
  {
   "cell_type": "code",
   "execution_count": null,
   "metadata": {
    "collapsed": true
   },
   "outputs": [],
   "source": []
  },
  {
   "cell_type": "code",
   "execution_count": null,
   "metadata": {
    "collapsed": true
   },
   "outputs": [],
   "source": []
  }
 ],
 "metadata": {
  "kernelspec": {
   "display_name": "R",
   "language": "R",
   "name": "ir"
  },
  "language_info": {
   "codemirror_mode": "r",
   "file_extension": ".r",
   "mimetype": "text/x-r-source",
   "name": "R",
   "pygments_lexer": "r",
   "version": "3.2.3"
  }
 },
 "nbformat": 4,
 "nbformat_minor": 2
}
